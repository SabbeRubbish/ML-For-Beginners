{
 "cells": [
  {
   "cell_type": "markdown",
   "metadata": {},
   "source": [
    "# Linnerud exercise"
   ]
  },
  {
   "cell_type": "code",
   "execution_count": 79,
   "metadata": {},
   "outputs": [],
   "source": [
    "import matplotlib.pyplot as plt\r\n",
    "import numpy as np\r\n",
    "from sklearn import datasets, linear_model, model_selection"
   ]
  },
  {
   "cell_type": "markdown",
   "metadata": {},
   "source": [
    "## Load data from SciKit\r\n",
    "Dataset is multi-output regression data with 3 exercise variables and 3 physiological target variables:\r\n",
    "```\r\n",
    "Weight Waist Pulse Chins Situps Jumps\r\n",
    "```\r\n",
    "In this exercise, we'll try to find the relation between waistline and # of situps"
   ]
  },
  {
   "cell_type": "code",
   "execution_count": 80,
   "metadata": {},
   "outputs": [
    {
     "data": {
      "text/plain": [
       "[Text(0, 0.5, 'Frequencey of waist (X)'), Text(0.5, 0, 'Waist')]"
      ]
     },
     "execution_count": 80,
     "metadata": {},
     "output_type": "execute_result"
    },
    {
     "data": {
      "image/png": "[encoded data removed]",
      "text/plain": [
       "<Figure size 432x288 with 1 Axes>"
      ]
     },
     "metadata": {
      "needs_background": "light"
     },
     "output_type": "display_data"
    }
   ],
   "source": [
    "Xorig, yorig = datasets.load_linnerud(return_X_y=True)\r\n",
    "# Show histogram of BMI\r\n",
    "data_parameter_to_use = 1 # Waist - set from 0 to 2\r\n",
    "target_parameter_to_use = 1 # Situps - set from 0 to 2\r\n",
    "plt.hist(Xorig[:, data_parameter_to_use], bins=20)\r\n",
    "plt.gca().set(ylabel=\"Frequencey of waist (X)\", xlabel=\"Waist\")"
   ]
  },
  {
   "cell_type": "markdown",
   "metadata": {},
   "source": [
    "The y array shows the physiological parameters based on the data parameters.\r\n",
    "\r\n",
    "We'll use the situps (1) target parameter."
   ]
  },
  {
   "cell_type": "code",
   "execution_count": 81,
   "metadata": {},
   "outputs": [],
   "source": [
    "X = Xorig[:, np.newaxis, data_parameter_to_use]\r\n",
    "y = yorig[:, target_parameter_to_use]"
   ]
  },
  {
   "cell_type": "markdown",
   "metadata": {},
   "source": [
    "## Data split\r\n",
    "We're splitting the dataset (X and y) into 2 pools, one to train, one to test.\r\n",
    "\r\n",
    "Split is done at the 1/3 mark, resulting in sets of 296 (2/3) and 146 (1/3) mark."
   ]
  },
  {
   "cell_type": "code",
   "execution_count": 82,
   "metadata": {},
   "outputs": [],
   "source": [
    "X_train, X_test, y_train, y_test = model_selection.train_test_split(X, y, test_size=0.33)"
   ]
  },
  {
   "cell_type": "markdown",
   "metadata": {},
   "source": [
    "## Training\r\n",
    "Now we're going to train our data using linear regression.\r\n"
   ]
  },
  {
   "cell_type": "markdown",
   "metadata": {},
   "source": [
    "<img src=\"images/regression.png\" style=\"text-align:center\" />"
   ]
  },
  {
   "cell_type": "code",
   "execution_count": 83,
   "metadata": {},
   "outputs": [
    {
     "data": {
      "text/plain": [
       "LinearRegression()"
      ]
     },
     "execution_count": 83,
     "metadata": {},
     "output_type": "execute_result"
    }
   ],
   "source": [
    "model = linear_model.LinearRegression()\r\n",
    "model.fit(X_train, y_train)"
   ]
  },
  {
   "cell_type": "markdown",
   "metadata": {},
   "source": [
    "Our model has been trained now with the test (296 records) data.\r\n",
    "\r\n",
    "Now we'll predict how the test data will behave (remaining 146 records)."
   ]
  },
  {
   "cell_type": "code",
   "execution_count": 84,
   "metadata": {},
   "outputs": [],
   "source": [
    "y_pred = model.predict(X_test)"
   ]
  },
  {
   "cell_type": "markdown",
   "metadata": {},
   "source": [
    "I've added the training data as well (pink) for more insight."
   ]
  },
  {
   "cell_type": "code",
   "execution_count": 85,
   "metadata": {},
   "outputs": [
    {
     "data": {
      "image/png": "[encoded data removed]",
      "text/plain": [
       "<Figure size 432x288 with 1 Axes>"
      ]
     },
     "metadata": {
      "needs_background": "light"
     },
     "output_type": "display_data"
    }
   ],
   "source": [
    "plt.scatter(X_test, y_test,  color='black')\r\n",
    "plt.plot(X_test, y_pred, color='blue', linewidth=3)\r\n",
    "plt.show()"
   ]
  },
  {
   "cell_type": "markdown",
   "metadata": {},
   "source": [
    "# Conclusion\r\n",
    "Waistline has a negative impact on the number of situps that can be done (d'uh)."
   ]
  }
 ],
 "metadata": {
  "interpreter": {
   "hash": "ef57528f1f4151d8c7bc362c58c2583ed02ba76f50e6568942b8dca28ef03495"
  },
  "kernelspec": {
   "display_name": "Python 3.9.6 64-bit",
   "name": "python3"
  },
  "language_info": {
   "codemirror_mode": {
    "name": "ipython",
    "version": 3
   },
   "file_extension": ".py",
   "mimetype": "text/x-python",
   "name": "python",
   "nbconvert_exporter": "python",
   "pygments_lexer": "ipython3",
   "version": "3.9.6"
  },
  "orig_nbformat": 4
 },
 "nbformat": 4,
 "nbformat_minor": 2
}